{
 "cells": [
  {
   "cell_type": "markdown",
   "metadata": {
    "id": "GRZ2PsLNiwqV"
   },
   "source": [
    "> ### **Assignment 2 - Numpy Array Operations**\n",
    ">\n",
    "> This assignment is part of the course [\"Data Analysis with Python: Zero to Pandas\"](http://zerotopandas.com). The objective of this assignment is to develop a solid understanding of Numpy array operations. In this assignment you will:\n",
    ">\n",
    "> 1. Pick 5 interesting Numpy array functions by going through the documentation: https://numpy.org/doc/stable/reference/routines.html\n",
    "> 2. Run and modify this Jupyter notebook to illustrate their usage (some explanation and 3 examples for each function). Use your imagination to come up with interesting and unique examples.\n",
    "> 3. Upload this notebook to your Jovian profile using `jovian.commit` and make a submission here: https://jovian.ml/learn/data-analysis-with-python-zero-to-pandas/assignment/assignment-2-numpy-array-operations\n",
    "> 4. (Optional) Share your notebook online (on Twitter, LinkedIn, Facebook) and on the community forum thread: https://jovian.ml/forum/t/assignment-2-numpy-array-operations-share-your-work/10575 .\n",
    "> 5. (Optional) Check out the notebooks [shared by other participants](https://jovian.ml/forum/t/assignment-2-numpy-array-operations-share-your-work/10575) and give feedback & appreciation.\n",
    ">\n",
    "> The recommended way to run this notebook is to click the \"Run\" button at the top of this page, and select \"Run on Binder\". This will run the notebook on mybinder.org, a free online service for running Jupyter notebooks.\n",
    ">\n",
    "> Try to give your notebook a catchy title & subtitle e.g. \"All about Numpy array operations\", \"5 Numpy functions you didn't know you needed\", \"A beginner's guide to broadcasting in Numpy\", \"Interesting ways to create Numpy arrays\", \"Trigonometic functions in Numpy\", \"How to use Python for Linear Algebra\" etc.\n",
    ">\n",
    "> **NOTE**: Remove this block of explanation text before submitting or sharing your notebook online - to make it more presentable.\n",
    "\n",
    "\n",
    "# Title Here\n",
    "\n",
    "\n",
    "### Subtitle Here\n",
    "\n",
    "Write a short introduction about Numpy and list the chosen functions.\n",
    "\n",
    "- `np.clip()` - Limits the values in an array\n",
    "- `np.pad()` - Pads an array\n",
    "- `np.argsort()` - Returns the indices that would sort an array\n",
    "- `np.linalg.eig()` - Computes the eigenvalues and right eigenvectors of a square matrix\n",
    "- `np.where()` - Returns elements chosen from `x` and `y` depending on the `condition`\n",
    "\n",
    "The recommended way to run this notebook is to click the \"Run\" button at the top of this page, and select \"Run on Binder\". This will run the notebook on mybinder.org, a free online service for running Jupyter notebooks."
   ]
  },
  {
   "cell_type": "code",
   "execution_count": 1,
   "metadata": {
    "colab": {
     "base_uri": "https://localhost:8080/"
    },
    "executionInfo": {
     "elapsed": 23856,
     "status": "ok",
     "timestamp": 1713449445705,
     "user": {
      "displayName": "Kamanpreet Singh",
      "userId": "14730478227196933332"
     },
     "user_tz": 150
    },
    "id": "WoKLi89YiwqY",
    "outputId": "c25e293c-87d4-4cd7-efe8-dd8fb9614588"
   },
   "outputs": [],
   "source": [
    "# !pip install jovian --upgrade -q"
   ]
  },
  {
   "cell_type": "code",
   "execution_count": 2,
   "metadata": {
    "executionInfo": {
     "elapsed": 795,
     "status": "ok",
     "timestamp": 1713449584523,
     "user": {
      "displayName": "Kamanpreet Singh",
      "userId": "14730478227196933332"
     },
     "user_tz": 150
    },
    "id": "f0KEOBOWiwqY"
   },
   "outputs": [],
   "source": [
    "# import jovian"
   ]
  },
  {
   "cell_type": "code",
   "execution_count": 3,
   "metadata": {
    "colab": {
     "base_uri": "https://localhost:8080/"
    },
    "executionInfo": {
     "elapsed": 451,
     "status": "ok",
     "timestamp": 1713449585875,
     "user": {
      "displayName": "Kamanpreet Singh",
      "userId": "14730478227196933332"
     },
     "user_tz": 150
    },
    "id": "8kvkq9W5iwqZ",
    "outputId": "f3b247fb-4dff-4563-d8b3-95b04125a818"
   },
   "outputs": [],
   "source": [
    "# jovian.commit(project='numpy-array-operations')"
   ]
  },
  {
   "cell_type": "markdown",
   "metadata": {
    "id": "-bU0E7f-iwqZ"
   },
   "source": [
    "Let's begin by importing Numpy and listing out the functions covered in this notebook."
   ]
  },
  {
   "cell_type": "code",
   "execution_count": 4,
   "metadata": {
    "executionInfo": {
     "elapsed": 282,
     "status": "ok",
     "timestamp": 1713449589566,
     "user": {
      "displayName": "Kamanpreet Singh",
      "userId": "14730478227196933332"
     },
     "user_tz": 150
    },
    "id": "lm4WZdQIiwqZ"
   },
   "outputs": [],
   "source": [
    "import numpy as np"
   ]
  },
  {
   "cell_type": "code",
   "execution_count": 5,
   "metadata": {
    "executionInfo": {
     "elapsed": 205,
     "status": "ok",
     "timestamp": 1713449716903,
     "user": {
      "displayName": "Kamanpreet Singh",
      "userId": "14730478227196933332"
     },
     "user_tz": 150
    },
    "id": "6SR4a6lZiwqa"
   },
   "outputs": [],
   "source": [
    "# List of functions explained\n",
    "#function1 = np.clip() # Limits the values in an array\n",
    "#function2 = np.pad() # Pads an array\n",
    "#function3 = np.argsort() # Returns the indices that would sort an array\n",
    "#function4 = np.linalg.eig() # Computes the eigenvalues and right eigenvectors of a square matrix\n",
    "#function5 = np.where() # Returns elements chosen from `x` or `y` depending on `condition`"
   ]
  },
  {
   "cell_type": "markdown",
   "metadata": {
    "id": "q0SlYRcSiwqa"
   },
   "source": [
    "## Function 1 - np.clip()\n",
    "\n",
    "This function is used to limit the values in an array to a given range. Any values below the lower limit will be set to the lower limit, and any values above the upper limit will be set to the upper limit."
   ]
  },
  {
   "cell_type": "code",
   "execution_count": 6,
   "metadata": {
    "colab": {
     "base_uri": "https://localhost:8080/"
    },
    "executionInfo": {
     "elapsed": 339,
     "status": "ok",
     "timestamp": 1713449801188,
     "user": {
      "displayName": "Kamanpreet Singh",
      "userId": "14730478227196933332"
     },
     "user_tz": 150
    },
    "id": "EnAY_1tOiwqa",
    "outputId": "319acf58-8348-4e6f-8ac0-12630957102c"
   },
   "outputs": [
    {
     "name": "stdout",
     "output_type": "stream",
     "text": [
      "Clipped array: [3 3 3 4 5 6 7 7 7]\n"
     ]
    }
   ],
   "source": [
    "# Example 1: Basic usage\n",
    "a = np.array([1, 2, 3, 4, 5, 6, 7, 8, 9])\n",
    "clipped = np.clip(a, 3, 7)\n",
    "print(\"Clipped array:\", clipped)"
   ]
  },
  {
   "cell_type": "markdown",
   "metadata": {
    "id": "1TgZEABoiwqa"
   },
   "source": [
    "Explanation about example"
   ]
  },
  {
   "cell_type": "code",
   "execution_count": 7,
   "metadata": {
    "colab": {
     "base_uri": "https://localhost:8080/"
    },
    "executionInfo": {
     "elapsed": 269,
     "status": "ok",
     "timestamp": 1713465449021,
     "user": {
      "displayName": "Kamanpreet Singh",
      "userId": "14730478227196933332"
     },
     "user_tz": 150
    },
    "id": "uqQ2A4B_iwqb",
    "outputId": "079f1114-a6ea-4b36-9c86-7dbbd2edd38c"
   },
   "outputs": [
    {
     "name": "stdout",
     "output_type": "stream",
     "text": [
      "Clipped 2D array:\n",
      " [[4.50199703 4.03105962 5.        ]\n",
      " [5.         5.         2.18109305]\n",
      " [1.         4.53697626 3.71895571]]\n"
     ]
    }
   ],
   "source": [
    "# Example 2: Clipping 2D array\n",
    "b = np.random.rand(3, 3) * 10  # Random values between 0 and 10\n",
    "clipped_2d = np.clip(b, 1, 5)\n",
    "print(\"Clipped 2D array:\\n\", clipped_2d)"
   ]
  },
  {
   "cell_type": "markdown",
   "metadata": {
    "id": "j9baLwgfiwqb"
   },
   "source": [
    "Explanation about example"
   ]
  },
  {
   "cell_type": "code",
   "execution_count": 8,
   "metadata": {
    "colab": {
     "base_uri": "https://localhost:8080/"
    },
    "executionInfo": {
     "elapsed": 247,
     "status": "ok",
     "timestamp": 1713465473174,
     "user": {
      "displayName": "Kamanpreet Singh",
      "userId": "14730478227196933332"
     },
     "user_tz": 150
    },
    "id": "EWIJLADPiwqb",
    "outputId": "b04639dc-0e88-4c36-8cc6-f06073a6228d"
   },
   "outputs": [
    {
     "name": "stdout",
     "output_type": "stream",
     "text": [
      "Data with outliers handled: [ 95.13647719  80.15594344  80.49589518 120.02561588 116.55566416\n",
      "  99.20243971 100.68642631 124.31249529  87.19299295 114.38093942]\n"
     ]
    }
   ],
   "source": [
    "# Example 3: Using np.clip to handle outliers in data\n",
    "data = np.random.normal(100, 20, 200)  # Normally distributed data\n",
    "clipped_data = np.clip(data, 50, 150)\n",
    "print(\"Data with outliers handled:\", clipped_data[:10])"
   ]
  },
  {
   "cell_type": "markdown",
   "metadata": {
    "id": "RJuBm_N1iwqb"
   },
   "source": [
    "Explanation about example (why it breaks and how to fix it)"
   ]
  },
  {
   "cell_type": "markdown",
   "metadata": {
    "id": "y_Ag5PATiwqb"
   },
   "source": [
    "Some closing comments about when to use this function."
   ]
  },
  {
   "cell_type": "code",
   "execution_count": 9,
   "metadata": {
    "colab": {
     "base_uri": "https://localhost:8080/"
    },
    "executionInfo": {
     "elapsed": 231,
     "status": "ok",
     "timestamp": 1713465488471,
     "user": {
      "displayName": "Kamanpreet Singh",
      "userId": "14730478227196933332"
     },
     "user_tz": 150
    },
    "id": "G2YvqL2Ciwqb",
    "outputId": "53e07e1a-e605-468e-8dab-e6767059feb9"
   },
   "outputs": [],
   "source": [
    "# jovian.commit()"
   ]
  },
  {
   "cell_type": "markdown",
   "metadata": {
    "id": "0WuJt6hZiwqb"
   },
   "source": [
    "## Function 2 - np.pad()\n",
    "\n",
    "This function pads an array with a constant or another form of padding specified by the pad width and mode arguments."
   ]
  },
  {
   "cell_type": "code",
   "execution_count": 10,
   "metadata": {
    "colab": {
     "base_uri": "https://localhost:8080/"
    },
    "executionInfo": {
     "elapsed": 383,
     "status": "ok",
     "timestamp": 1713465544098,
     "user": {
      "displayName": "Kamanpreet Singh",
      "userId": "14730478227196933332"
     },
     "user_tz": 150
    },
    "id": "Y3a_Tol0iwqb",
    "outputId": "6f36fdb6-5675-49cc-aea4-83a45e689483"
   },
   "outputs": [
    {
     "name": "stdout",
     "output_type": "stream",
     "text": [
      "Padded 1D array: [4 4 1 2 3 6 6 6]\n"
     ]
    }
   ],
   "source": [
    "# Example 1: Padding a 1D array\n",
    "c = np.array([1, 2, 3])\n",
    "padded_c = np.pad(c, (2, 3), 'constant', constant_values=(4, 6))\n",
    "print(\"Padded 1D array:\", padded_c)"
   ]
  },
  {
   "cell_type": "markdown",
   "metadata": {
    "id": "vPNJ4dG6iwqb"
   },
   "source": [
    "Explanation about example"
   ]
  },
  {
   "cell_type": "code",
   "execution_count": 11,
   "metadata": {
    "colab": {
     "base_uri": "https://localhost:8080/"
    },
    "executionInfo": {
     "elapsed": 249,
     "status": "ok",
     "timestamp": 1713465561509,
     "user": {
      "displayName": "Kamanpreet Singh",
      "userId": "14730478227196933332"
     },
     "user_tz": 150
    },
    "id": "PzlEkZ6eiwqb",
    "outputId": "a5509b00-6244-40f3-c912-1a103614a285"
   },
   "outputs": [
    {
     "name": "stdout",
     "output_type": "stream",
     "text": [
      "Symmetrically padded 2D array:\n",
      " [[1 1 2 2]\n",
      " [1 1 2 2]\n",
      " [3 3 4 4]\n",
      " [3 3 4 4]]\n"
     ]
    }
   ],
   "source": [
    "# Example 2: Padding a 2D array symmetrically\n",
    "d = np.array([[1, 2], [3, 4]])\n",
    "padded_d = np.pad(d, pad_width=1, mode='symmetric')\n",
    "print(\"Symmetrically padded 2D array:\\n\", padded_d)"
   ]
  },
  {
   "cell_type": "markdown",
   "metadata": {
    "id": "ONnMfVNhiwqb"
   },
   "source": [
    "Explanation about example"
   ]
  },
  {
   "cell_type": "code",
   "execution_count": 12,
   "metadata": {
    "colab": {
     "base_uri": "https://localhost:8080/"
    },
    "executionInfo": {
     "elapsed": 190,
     "status": "ok",
     "timestamp": 1713465570343,
     "user": {
      "displayName": "Kamanpreet Singh",
      "userId": "14730478227196933332"
     },
     "user_tz": 150
    },
    "id": "d9SGFyAliwqb",
    "outputId": "f11c5bb8-347f-48a8-96db-3634f5e32c38"
   },
   "outputs": [
    {
     "name": "stdout",
     "output_type": "stream",
     "text": [
      "Edge padded 2D array:\n",
      " [[1 1 1 2 2 2]\n",
      " [1 1 1 2 2 2]\n",
      " [1 1 1 2 2 2]\n",
      " [3 3 3 4 4 4]\n",
      " [3 3 3 4 4 4]\n",
      " [3 3 3 4 4 4]]\n"
     ]
    }
   ],
   "source": [
    "# Example 3: Edge padding\n",
    "padded_edge = np.pad(d, pad_width=2, mode='edge')\n",
    "print(\"Edge padded 2D array:\\n\", padded_edge)"
   ]
  },
  {
   "cell_type": "markdown",
   "metadata": {
    "id": "s0JYLCNwiwqc"
   },
   "source": [
    "Explanation about example (why it breaks and how to fix it)"
   ]
  },
  {
   "cell_type": "markdown",
   "metadata": {
    "id": "mVvQ_ensiwqc"
   },
   "source": [
    "Some closing comments about when to use this function."
   ]
  },
  {
   "cell_type": "code",
   "execution_count": 13,
   "metadata": {
    "colab": {
     "base_uri": "https://localhost:8080/"
    },
    "executionInfo": {
     "elapsed": 185,
     "status": "ok",
     "timestamp": 1713465577391,
     "user": {
      "displayName": "Kamanpreet Singh",
      "userId": "14730478227196933332"
     },
     "user_tz": 150
    },
    "id": "LhvCM8-0iwqc",
    "outputId": "94c6fcdc-8a41-4a32-cc51-92baa4b2940d"
   },
   "outputs": [],
   "source": [
    "# jovian.commit()"
   ]
  },
  {
   "cell_type": "markdown",
   "metadata": {
    "id": "z1GAVt7Oiwqc"
   },
   "source": [
    "## Function 3 - np.argsort()\n",
    "\n",
    "This function returns indices that would sort an array"
   ]
  },
  {
   "cell_type": "code",
   "execution_count": 14,
   "metadata": {
    "colab": {
     "base_uri": "https://localhost:8080/"
    },
    "executionInfo": {
     "elapsed": 182,
     "status": "ok",
     "timestamp": 1713465640332,
     "user": {
      "displayName": "Kamanpreet Singh",
      "userId": "14730478227196933332"
     },
     "user_tz": 150
    },
    "id": "BeE98kIhiwqc",
    "outputId": "1d91b12d-a7f7-4316-ff02-b5c09863fd3c"
   },
   "outputs": [
    {
     "name": "stdout",
     "output_type": "stream",
     "text": [
      "Indices of sorted array: [1 2 0]\n"
     ]
    }
   ],
   "source": [
    "# Example 1: Basic argsort\n",
    "e = np.array([3, 1, 2])\n",
    "sorted_indices = np.argsort(e)\n",
    "print(\"Indices of sorted array:\", sorted_indices)"
   ]
  },
  {
   "cell_type": "markdown",
   "metadata": {
    "id": "1VtKexldiwqc"
   },
   "source": [
    "Explanation about example"
   ]
  },
  {
   "cell_type": "code",
   "execution_count": 15,
   "metadata": {
    "colab": {
     "base_uri": "https://localhost:8080/"
    },
    "executionInfo": {
     "elapsed": 198,
     "status": "ok",
     "timestamp": 1713465657062,
     "user": {
      "displayName": "Kamanpreet Singh",
      "userId": "14730478227196933332"
     },
     "user_tz": 150
    },
    "id": "iQ_D9cn-iwqc",
    "outputId": "94f0f3d6-2369-4f51-b8a5-46020fd2dde6"
   },
   "outputs": [
    {
     "name": "stdout",
     "output_type": "stream",
     "text": [
      "Column-wise sorted indices of 2D array:\n",
      " [[0 2 0]\n",
      " [1 1 1]\n",
      " [2 0 2]]\n"
     ]
    }
   ],
   "source": [
    "# Example 2: Using argsort with 2D array\n",
    "f = np.random.rand(3, 3) * 10\n",
    "sorted_indices_2d = np.argsort(f, axis=0)\n",
    "print(\"Column-wise sorted indices of 2D array:\\n\", sorted_indices_2d)"
   ]
  },
  {
   "cell_type": "markdown",
   "metadata": {
    "id": "EUWudtE0iwqc"
   },
   "source": [
    "Explanation about example"
   ]
  },
  {
   "cell_type": "code",
   "execution_count": 16,
   "metadata": {
    "colab": {
     "base_uri": "https://localhost:8080/"
    },
    "executionInfo": {
     "elapsed": 205,
     "status": "ok",
     "timestamp": 1713465668530,
     "user": {
      "displayName": "Kamanpreet Singh",
      "userId": "14730478227196933332"
     },
     "user_tz": 150
    },
    "id": "mdlG4_1tiwqc",
    "outputId": "42a88722-0126-4524-dbfe-2346d52e6108"
   },
   "outputs": [
    {
     "name": "stdout",
     "output_type": "stream",
     "text": [
      "Weights sorted by age: [55 50 80 95 85 90]\n"
     ]
    }
   ],
   "source": [
    "# Example 3: Using argsort to sort array based on custom criteria\n",
    "ages = np.array([25, 30, 20, 50, 40, 35])\n",
    "weights = np.array([50, 80, 55, 90, 85, 95])\n",
    "sorted_by_age = np.argsort(ages)\n",
    "print(\"Weights sorted by age:\", weights[sorted_by_age])"
   ]
  },
  {
   "cell_type": "markdown",
   "metadata": {
    "id": "6lPxVgB5iwqc"
   },
   "source": [
    "Explanation about example (why it breaks and how to fix it)"
   ]
  },
  {
   "cell_type": "markdown",
   "metadata": {
    "id": "bslgLzIaiwqc"
   },
   "source": [
    "Some closing comments about when to use this function."
   ]
  },
  {
   "cell_type": "code",
   "execution_count": 17,
   "metadata": {
    "colab": {
     "base_uri": "https://localhost:8080/"
    },
    "executionInfo": {
     "elapsed": 184,
     "status": "ok",
     "timestamp": 1713465674756,
     "user": {
      "displayName": "Kamanpreet Singh",
      "userId": "14730478227196933332"
     },
     "user_tz": 150
    },
    "id": "uMD4f5_-iwqc",
    "outputId": "2b759210-c7ac-4334-8463-46b470d085e5"
   },
   "outputs": [],
   "source": [
    "# jovian.commit()"
   ]
  },
  {
   "cell_type": "markdown",
   "metadata": {
    "id": "VF8vBhkoiwqc"
   },
   "source": [
    "## Function 4 - np.linalg.eig()\n",
    "\n",
    "This function computes the eigenvalues and right eigenvectors of a square matrix."
   ]
  },
  {
   "cell_type": "code",
   "execution_count": 18,
   "metadata": {
    "colab": {
     "base_uri": "https://localhost:8080/"
    },
    "executionInfo": {
     "elapsed": 234,
     "status": "ok",
     "timestamp": 1713465735334,
     "user": {
      "displayName": "Kamanpreet Singh",
      "userId": "14730478227196933332"
     },
     "user_tz": 150
    },
    "id": "ol54cF4wiwqc",
    "outputId": "aefd1aba-876a-4f5b-d797-9c5ece8c0ce8"
   },
   "outputs": [
    {
     "name": "stdout",
     "output_type": "stream",
     "text": [
      "Eigenvalues: [-0.23606798  4.23606798]\n",
      "Eigenvectors:\n",
      " [[-0.85065081 -0.52573111]\n",
      " [ 0.52573111 -0.85065081]]\n"
     ]
    }
   ],
   "source": [
    "# Example 1: Eigenvalues and eigenvectors of a 2x2 matrix\n",
    "g = np.array([[1, 2], [2, 3]])\n",
    "eigenvalues, eigenvectors = np.linalg.eig(g)\n",
    "print(\"Eigenvalues:\", eigenvalues)\n",
    "print(\"Eigenvectors:\\n\", eigenvectors)"
   ]
  },
  {
   "cell_type": "markdown",
   "metadata": {
    "id": "Z8hyIjKDiwqc"
   },
   "source": [
    "Explanation about example"
   ]
  },
  {
   "cell_type": "code",
   "execution_count": 19,
   "metadata": {
    "colab": {
     "base_uri": "https://localhost:8080/"
    },
    "executionInfo": {
     "elapsed": 186,
     "status": "ok",
     "timestamp": 1713465749697,
     "user": {
      "displayName": "Kamanpreet Singh",
      "userId": "14730478227196933332"
     },
     "user_tz": 150
    },
    "id": "ECwlAwv9iwqd",
    "outputId": "59f82b2d-26b7-403a-aafc-2fb584984aed"
   },
   "outputs": [
    {
     "name": "stdout",
     "output_type": "stream",
     "text": [
      "Eigenvalues of symmetric matrix: [3.41421356 2.         0.58578644]\n",
      "Eigenvectors of symmetric matrix:\n",
      " [[-5.00000000e-01 -7.07106781e-01  5.00000000e-01]\n",
      " [ 7.07106781e-01  4.05405432e-16  7.07106781e-01]\n",
      " [-5.00000000e-01  7.07106781e-01  5.00000000e-01]]\n"
     ]
    }
   ],
   "source": [
    "# Example 2: Real symmetric matrix\n",
    "h = np.array([[2, -1, 0], [-1, 2, -1], [0, -1, 2]])\n",
    "eigenvalues_h, eigenvectors_h = np.linalg.eig(h)\n",
    "print(\"Eigenvalues of symmetric matrix:\", eigenvalues_h)\n",
    "print(\"Eigenvectors of symmetric matrix:\\n\", eigenvectors_h)"
   ]
  },
  {
   "cell_type": "markdown",
   "metadata": {
    "id": "luAbJ2-uiwqd"
   },
   "source": [
    "Explanation about example"
   ]
  },
  {
   "cell_type": "code",
   "execution_count": 20,
   "metadata": {
    "colab": {
     "base_uri": "https://localhost:8080/"
    },
    "executionInfo": {
     "elapsed": 173,
     "status": "ok",
     "timestamp": 1713465757950,
     "user": {
      "displayName": "Kamanpreet Singh",
      "userId": "14730478227196933332"
     },
     "user_tz": 150
    },
    "id": "60t8WRpqiwqf",
    "outputId": "c0b93fad-1660-422b-d92c-4ac9ead74673"
   },
   "outputs": [
    {
     "name": "stdout",
     "output_type": "stream",
     "text": [
      "Eigenvalues for PCA: [0.14658628 0.07297158 0.04976338]\n",
      "Eigenvectors for PCA:\n",
      " [[-0.54832423 -0.61866735  0.56266442]\n",
      " [-0.79006257  0.60378399 -0.10604725]\n",
      " [ 0.2741198   0.50268837  0.81985531]]\n"
     ]
    }
   ],
   "source": [
    "# Example 3: Using eigenvectors for principal component analysis (PCA) simulation\n",
    "data = np.random.rand(10, 3)  # Simulate some multi-dimensional data\n",
    "cov_matrix = np.cov(data.T)  # Compute the covariance matrix\n",
    "e_vals, e_vecs = np.linalg.eig(cov_matrix)  # Get eigenvalues and vectors\n",
    "print(\"Eigenvalues for PCA:\", e_vals)\n",
    "print(\"Eigenvectors for PCA:\\n\", e_vecs)"
   ]
  },
  {
   "cell_type": "markdown",
   "metadata": {
    "id": "1qPrObwviwqg"
   },
   "source": [
    "Explanation about example (why it breaks and how to fix it)"
   ]
  },
  {
   "cell_type": "markdown",
   "metadata": {
    "id": "DiJptDN0iwqg"
   },
   "source": [
    "Some closing comments about when to use this function."
   ]
  },
  {
   "cell_type": "code",
   "execution_count": 21,
   "metadata": {
    "colab": {
     "base_uri": "https://localhost:8080/"
    },
    "executionInfo": {
     "elapsed": 171,
     "status": "ok",
     "timestamp": 1713465768275,
     "user": {
      "displayName": "Kamanpreet Singh",
      "userId": "14730478227196933332"
     },
     "user_tz": 150
    },
    "id": "mnqX09kMiwqg",
    "outputId": "d1947f4c-8204-41da-9bd7-62caa514f8f3"
   },
   "outputs": [],
   "source": [
    "# jovian.commit()"
   ]
  },
  {
   "cell_type": "markdown",
   "metadata": {
    "id": "aRymsK5eiwqg"
   },
   "source": [
    "## Function 5 - np.where()\n",
    "\n",
    "It can be used to conditionally select elements from an array, or to create a new array based on conditions. "
   ]
  },
  {
   "cell_type": "code",
   "execution_count": 22,
   "metadata": {
    "id": "LQW9a5MUiwqg"
   },
   "outputs": [
    {
     "name": "stdout",
     "output_type": "stream",
     "text": [
      "Modified Array: [-1 -1 -1  6  7  8]\n"
     ]
    }
   ],
   "source": [
    "# Example 1 - working\n",
    "# Create an array\n",
    "array = np.array([1, 2, 3, 6, 7, 8])\n",
    "\n",
    "# Use np.where to replace all elements < 5 with -1\n",
    "modified_array = np.where(array < 5, -1, array)\n",
    "print(\"Modified Array:\", modified_array)"
   ]
  },
  {
   "cell_type": "markdown",
   "metadata": {
    "id": "LKdXwl4wiwqg"
   },
   "source": [
    "In this example, np.where is used to replace all elements in an array that are less than 5 with the number -1."
   ]
  },
  {
   "cell_type": "code",
   "execution_count": 23,
   "metadata": {
    "id": "xR1J3WWeiwqg"
   },
   "outputs": [
    {
     "name": "stdout",
     "output_type": "stream",
     "text": [
      "Result Array: [10 15 30 35 50]\n"
     ]
    }
   ],
   "source": [
    "# Example 2 - working\n",
    "# Two arrays of the same length\n",
    "array_x = np.array([10, 20, 30, 40, 50])\n",
    "array_y = np.array([5, 15, 25, 35, 45])\n",
    "\n",
    "# Condition array\n",
    "condition = np.array([True, False, True, False, True])\n",
    "\n",
    "# Use np.where to select elements from array_x or array_y based on condition\n",
    "result_array = np.where(condition, array_x, array_y)\n",
    "print(\"Result Array:\", result_array)\n"
   ]
  },
  {
   "cell_type": "markdown",
   "metadata": {
    "id": "hQkuW0xDiwqg"
   },
   "source": [
    "In this example, np.where is used to select elements from two arrays based on a condition applied to a third array."
   ]
  },
  {
   "cell_type": "code",
   "execution_count": 24,
   "metadata": {
    "id": "kw4ZJ1aDiwqg"
   },
   "outputs": [
    {
     "name": "stdout",
     "output_type": "stream",
     "text": [
      "Data: [75 46 73  6 65 81 66 96 58 92]\n",
      "Categorized Data: ['High' 'Medium' 'High' 'Low' 'High' 'High' 'High' 'High' 'Medium' 'High']\n"
     ]
    }
   ],
   "source": [
    "# Example 3 - breaking (to illustrate when it breaks)\n",
    "# Create an array of integers\n",
    "data = np.random.randint(1, 100, 10)\n",
    "\n",
    "# Use np.where to categorize data based on value ranges\n",
    "categorized_data = np.where(data < 30, \"Low\",\n",
    "                            np.where(data < 60, \"Medium\", \"High\"))\n",
    "print(\"Data:\", data)\n",
    "print(\"Categorized Data:\", categorized_data)\n"
   ]
  },
  {
   "cell_type": "markdown",
   "metadata": {
    "id": "m-W2GDdPiwqg"
   },
   "source": [
    "Here, np.where is used to evaluate multiple conditions to generate a new array. This is handy for creating feature columns in data processing or more complex manipulations."
   ]
  },
  {
   "cell_type": "markdown",
   "metadata": {
    "id": "QBbjrz6iiwqg"
   },
   "source": [
    "Some closing comments about when to use this function."
   ]
  },
  {
   "cell_type": "code",
   "execution_count": 25,
   "metadata": {
    "id": "E_Kl_eE_iwqg",
    "outputId": "a388b6b5-8a0d-4052-e66f-6e0ace0c0ffb"
   },
   "outputs": [],
   "source": [
    "# jovian.commit()"
   ]
  },
  {
   "cell_type": "markdown",
   "metadata": {
    "id": "7Xw3HeUFiwqg"
   },
   "source": [
    "## Conclusion\n",
    "\n",
    "Summarize what was covered in this notebook, and where to go next"
   ]
  },
  {
   "cell_type": "markdown",
   "metadata": {
    "id": "MZNMvaLIiwqg"
   },
   "source": [
    "## Reference Links\n",
    "Provide links to your references and other interesting articles about Numpy arrays:\n",
    "* Numpy official tutorial : https://numpy.org/doc/stable/user/quickstart.html\n",
    "* ..."
   ]
  },
  {
   "cell_type": "code",
   "execution_count": 27,
   "metadata": {
    "id": "HBWSV04siwqg",
    "outputId": "7e083358-9504-43e8-ef8b-25ba89cda2f4"
   },
   "outputs": [],
   "source": [
    "# jovian.commit()"
   ]
  },
  {
   "cell_type": "code",
   "execution_count": null,
   "metadata": {
    "id": "W4ccRKkPiwqg"
   },
   "outputs": [],
   "source": []
  }
 ],
 "metadata": {
  "colab": {
   "provenance": []
  },
  "kernelspec": {
   "display_name": "Python 3",
   "language": "python",
   "name": "python3"
  },
  "language_info": {
   "codemirror_mode": {
    "name": "ipython",
    "version": 3
   },
   "file_extension": ".py",
   "mimetype": "text/x-python",
   "name": "python",
   "nbconvert_exporter": "python",
   "pygments_lexer": "ipython3",
   "version": "3.12.1"
  }
 },
 "nbformat": 4,
 "nbformat_minor": 0
}
